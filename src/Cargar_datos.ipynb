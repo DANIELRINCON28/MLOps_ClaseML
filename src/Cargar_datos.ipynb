{
 "cells": [
  {
   "cell_type": "markdown",
   "id": "552027e6",
   "metadata": {},
   "source": [
    "# Carga del dataset"
   ]
  }
 ],
 "metadata": {
  "language_info": {
   "name": "python"
  }
 },
 "nbformat": 4,
 "nbformat_minor": 5
}
