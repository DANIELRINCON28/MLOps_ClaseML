{
 "cells": [
  {
   "cell_type": "markdown",
   "id": "41a433ec",
   "metadata": {},
   "source": [
    "# Despliegue del modelo en un endpoint"
   ]
  }
 ],
 "metadata": {
  "language_info": {
   "name": "python"
  }
 },
 "nbformat": 4,
 "nbformat_minor": 5
}
