{
 "cells": [
  {
   "cell_type": "markdown",
   "id": "8c577d81",
   "metadata": {},
   "source": [
    "# Análisis exploratorio de datos (EDA)"
   ]
  }
 ],
 "metadata": {
  "language_info": {
   "name": "python"
  }
 },
 "nbformat": 4,
 "nbformat_minor": 5
}
