{
 "cells": [
  {
   "cell_type": "markdown",
   "id": "2bdb80ff",
   "metadata": {},
   "source": [
    "# Entrenamiento y comparación de modelos "
   ]
  }
 ],
 "metadata": {
  "language_info": {
   "name": "python"
  }
 },
 "nbformat": 4,
 "nbformat_minor": 5
}
