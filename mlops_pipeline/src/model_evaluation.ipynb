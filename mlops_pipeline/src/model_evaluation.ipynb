{
 "cells": [
  {
   "cell_type": "markdown",
   "id": "f3a3be07",
   "metadata": {},
   "source": [
    "# Evaluación de métricas del modelo desplegado"
   ]
  }
 ],
 "metadata": {
  "language_info": {
   "name": "python"
  }
 },
 "nbformat": 4,
 "nbformat_minor": 5
}
