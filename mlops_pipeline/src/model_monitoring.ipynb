{
 "cells": [
  {
   "cell_type": "markdown",
   "id": "5c946a98",
   "metadata": {},
   "source": [
    "# Monitoreo y detección del datadrift"
   ]
  }
 ],
 "metadata": {
  "language_info": {
   "name": "python"
  }
 },
 "nbformat": 4,
 "nbformat_minor": 5
}
